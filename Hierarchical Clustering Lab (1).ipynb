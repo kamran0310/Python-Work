{
 "cells": [
  {
   "cell_type": "markdown",
   "metadata": {},
   "source": [
    "# Hierarchical Clustering Using Scipy\n",
    "In this notebook, we will be using Scipy to make dendograms. The notebook gives the basic steps to realise a dendrogram from a numeric matrix. Let’s describe a few customisation that you can easily apply to your dendrogram based on the car dataset which contains different attributes like model, mpg, gear and other features related to cars.\n",
    "\n",
    "\n",
    "## 1. Making a simple Dendogram\n"
   ]
  },
  {
   "cell_type": "markdown",
   "metadata": {},
   "source": [
    "### Importing libraries\n"
   ]
  },
  {
   "cell_type": "code",
   "execution_count": 1,
   "metadata": {},
   "outputs": [],
   "source": [
    "import pandas as pd\n",
    "from matplotlib import pyplot as plt\n",
    "from scipy.cluster import hierarchy\n",
    "import numpy as np"
   ]
  },
  {
   "cell_type": "markdown",
   "metadata": {},
   "source": [
    "### Importing Data Set"
   ]
  },
  {
   "cell_type": "code",
   "execution_count": 2,
   "metadata": {},
   "outputs": [],
   "source": [
    "df = pd.read_csv('mtcars.csv')"
   ]
  },
  {
   "cell_type": "code",
   "execution_count": 3,
   "metadata": {},
   "outputs": [],
   "source": [
    "df = df.set_index('model')"
   ]
  },
  {
   "cell_type": "markdown",
   "metadata": {},
   "source": [
    "**Agglomerative Clustering** has different types like *WARD*,  *COMPLETE-LINK* and *AVERAGE*. We however will be using *WARD* clustering in this example. "
   ]
  },
  {
   "cell_type": "code",
   "execution_count": 4,
   "metadata": {},
   "outputs": [],
   "source": [
    "# Calculate the distance between each sample\n",
    "Z = hierarchy.linkage(df, 'ward')"
   ]
  },
  {
   "cell_type": "code",
   "execution_count": 8,
   "metadata": {
    "scrolled": true
   },
   "outputs": [
    {
     "data": {
      "image/png": "[encoded data removed]",
      "text/plain": [
       "<Figure size 432x288 with 1 Axes>"
      ]
     },
     "metadata": {
      "needs_background": "light"
     },
     "output_type": "display_data"
    }
   ],
   "source": [
    "hierarchy.dendrogram(Z, leaf_font_size=10)\n",
    "plt.show()"
   ]
  },
  {
   "cell_type": "markdown",
   "metadata": {},
   "source": [
    "Above figure shows a simple dendogram without proper labels shown. Let us explore further and see how customizations can be made to improve the plot."
   ]
  },
  {
   "cell_type": "markdown",
   "metadata": {},
   "source": [
    "## 2. Adding leaf labels"
   ]
  },
  {
   "cell_type": "code",
   "execution_count": 9,
   "metadata": {},
   "outputs": [],
   "source": [
    "del df.index.name"
   ]
  },
  {
   "cell_type": "code",
   "execution_count": 10,
   "metadata": {},
   "outputs": [
    {
     "data": {
      "text/html": [
       "<div>\n",
       "<style scoped>\n",
       "    .dataframe tbody tr th:only-of-type {\n",
       "        vertical-align: middle;\n",
       "    }\n",
       "\n",
       "    .dataframe tbody tr th {\n",
       "        vertical-align: top;\n",
       "    }\n",
       "\n",
       "    .dataframe thead th {\n",
       "        text-align: right;\n",
       "    }\n",
       "</style>\n",
       "<table border=\"1\" class=\"dataframe\">\n",
       "  <thead>\n",
       "    <tr style=\"text-align: right;\">\n",
       "      <th></th>\n",
       "      <th>mpg</th>\n",
       "      <th>cyl</th>\n",
       "      <th>disp</th>\n",
       "      <th>hp</th>\n",
       "      <th>drat</th>\n",
       "      <th>wt</th>\n",
       "      <th>qsec</th>\n",
       "      <th>vs</th>\n",
       "      <th>am</th>\n",
       "      <th>gear</th>\n",
       "      <th>carb</th>\n",
       "    </tr>\n",
       "  </thead>\n",
       "  <tbody>\n",
       "    <tr>\n",
       "      <th>Mazda RX4</th>\n",
       "      <td>21.0</td>\n",
       "      <td>6</td>\n",
       "      <td>160.0</td>\n",
       "      <td>110</td>\n",
       "      <td>3.90</td>\n",
       "      <td>2.620</td>\n",
       "      <td>16.46</td>\n",
       "      <td>0</td>\n",
       "      <td>1</td>\n",
       "      <td>4</td>\n",
       "      <td>4</td>\n",
       "    </tr>\n",
       "    <tr>\n",
       "      <th>Mazda RX4 Wag</th>\n",
       "      <td>21.0</td>\n",
       "      <td>6</td>\n",
       "      <td>160.0</td>\n",
       "      <td>110</td>\n",
       "      <td>3.90</td>\n",
       "      <td>2.875</td>\n",
       "      <td>17.02</td>\n",
       "      <td>0</td>\n",
       "      <td>1</td>\n",
       "      <td>4</td>\n",
       "      <td>4</td>\n",
       "    </tr>\n",
       "    <tr>\n",
       "      <th>Datsun 710</th>\n",
       "      <td>22.8</td>\n",
       "      <td>4</td>\n",
       "      <td>108.0</td>\n",
       "      <td>93</td>\n",
       "      <td>3.85</td>\n",
       "      <td>2.320</td>\n",
       "      <td>18.61</td>\n",
       "      <td>1</td>\n",
       "      <td>1</td>\n",
       "      <td>4</td>\n",
       "      <td>1</td>\n",
       "    </tr>\n",
       "    <tr>\n",
       "      <th>Hornet 4 Drive</th>\n",
       "      <td>21.4</td>\n",
       "      <td>6</td>\n",
       "      <td>258.0</td>\n",
       "      <td>110</td>\n",
       "      <td>3.08</td>\n",
       "      <td>3.215</td>\n",
       "      <td>19.44</td>\n",
       "      <td>1</td>\n",
       "      <td>0</td>\n",
       "      <td>3</td>\n",
       "      <td>1</td>\n",
       "    </tr>\n",
       "    <tr>\n",
       "      <th>Hornet Sportabout</th>\n",
       "      <td>18.7</td>\n",
       "      <td>8</td>\n",
       "      <td>360.0</td>\n",
       "      <td>175</td>\n",
       "      <td>3.15</td>\n",
       "      <td>3.440</td>\n",
       "      <td>17.02</td>\n",
       "      <td>0</td>\n",
       "      <td>0</td>\n",
       "      <td>3</td>\n",
       "      <td>2</td>\n",
       "    </tr>\n",
       "  </tbody>\n",
       "</table>\n",
       "</div>"
      ],
      "text/plain": [
       "                    mpg  cyl   disp   hp  drat     wt   qsec  vs  am  gear  \\\n",
       "Mazda RX4          21.0    6  160.0  110  3.90  2.620  16.46   0   1     4   \n",
       "Mazda RX4 Wag      21.0    6  160.0  110  3.90  2.875  17.02   0   1     4   \n",
       "Datsun 710         22.8    4  108.0   93  3.85  2.320  18.61   1   1     4   \n",
       "Hornet 4 Drive     21.4    6  258.0  110  3.08  3.215  19.44   1   0     3   \n",
       "Hornet Sportabout  18.7    8  360.0  175  3.15  3.440  17.02   0   0     3   \n",
       "\n",
       "                   carb  \n",
       "Mazda RX4             4  \n",
       "Mazda RX4 Wag         4  \n",
       "Datsun 710            1  \n",
       "Hornet 4 Drive        1  \n",
       "Hornet Sportabout     2  "
      ]
     },
     "execution_count": 10,
     "metadata": {},
     "output_type": "execute_result"
    }
   ],
   "source": [
    "df.head()"
   ]
  },
  {
   "cell_type": "code",
   "execution_count": 11,
   "metadata": {},
   "outputs": [],
   "source": [
    "Z = hierarchy.linkage(df, 'ward')"
   ]
  },
  {
   "cell_type": "markdown",
   "metadata": {},
   "source": [
    "**Task 1:** Make a dendogram for improving the leaf rotation, font size of labels. Keep in mind the following:\n",
    "\n",
    "- leaf_rotation = 90\n",
    "- leaf_font_size= 10\n",
    "- labels=df.index"
   ]
  },
  {
   "cell_type": "code",
   "execution_count": 19,
   "metadata": {},
   "outputs": [
    {
     "data": {
      "image/png": "[encoded data removed]",
      "text/plain": [
       "<Figure size 576x432 with 1 Axes>"
      ]
     },
     "metadata": {
      "needs_background": "light"
     },
     "output_type": "display_data"
    }
   ],
   "source": [
    "# Plot with Custom leaves\n",
    "plt.figure(figsize=(8,6))\n",
    "hierarchy.dendrogram(Z, leaf_rotation=90,  leaf_font_size=10, labels=df.index)\n",
    "plt.show()"
   ]
  },
  {
   "cell_type": "markdown",
   "metadata": {},
   "source": [
    "The above plot shows labels and names of different models, those which are adjusted to get a better understanding of the dendogram. We can further improve the visualization by changing the orientation of these labels."
   ]
  },
  {
   "cell_type": "markdown",
   "metadata": {},
   "source": [
    "## 3. Orientation"
   ]
  },
  {
   "cell_type": "markdown",
   "metadata": {},
   "source": [
    "**Task 2:**: Fix the orientation of dendogram above by putting the orientation = \"left\". Please note that the lable font size should be 10"
   ]
  },
  {
   "cell_type": "code",
   "execution_count": 21,
   "metadata": {},
   "outputs": [
    {
     "data": {
      "image/png": "[encoded data removed]",
      "text/plain": [
       "<Figure size 576x432 with 1 Axes>"
      ]
     },
     "metadata": {
      "needs_background": "light"
     },
     "output_type": "display_data"
    }
   ],
   "source": [
    "# Orientation of the dendrogram\n",
    "plt.figure(figsize=(8,6))\n",
    "hierarchy.dendrogram(Z, orientation= 'left', leaf_rotation=0,  leaf_font_size=8, labels=df.index)\n",
    "plt.show()"
   ]
  },
  {
   "cell_type": "markdown",
   "metadata": {},
   "source": [
    "The plot above shows how the orientation of the plot and labels can be changed. The orientation in the plot above has been made to right and can also be set to left."
   ]
  },
  {
   "cell_type": "markdown",
   "metadata": {},
   "source": [
    "## 4. Number of clusters"
   ]
  },
  {
   "cell_type": "code",
   "execution_count": 22,
   "metadata": {
    "scrolled": true
   },
   "outputs": [
    {
     "data": {
      "text/plain": [
       "<matplotlib.lines.Line2D at 0x92f1e10>"
      ]
     },
     "execution_count": 22,
     "metadata": {},
     "output_type": "execute_result"
    },
    {
     "data": {
      "image/png": "[encoded data removed]",
      "text/plain": [
       "<Figure size 432x288 with 1 Axes>"
      ]
     },
     "metadata": {
      "needs_background": "light"
     },
     "output_type": "display_data"
    }
   ],
   "source": [
    "# Control number of clusters in the plot + add horizontal line.\n",
    "hierarchy.dendrogram(Z, color_threshold=240,labels=df.index,leaf_rotation=90)\n",
    "plt.axhline(y=240, c='grey', lw=1, linestyle='dashed')"
   ]
  },
  {
   "cell_type": "markdown",
   "metadata": {},
   "source": [
    "A horizontal shows the threshold from where the clusters can be identified. Currently there are 3 clusters shown. Changing the threshold would result in different number of clusters."
   ]
  },
  {
   "cell_type": "markdown",
   "metadata": {},
   "source": [
    "# Hierarchical Clustering using SKLearn"
   ]
  },
  {
   "cell_type": "markdown",
   "metadata": {},
   "source": [
    "We have a csv file that contains all the votes from the 114th Senate.  Each row contains the votes of an individual senator. Votes are coded as 0 for “No”, 1 for “Yes”, and 0.5 for “Abstain”. There are different columns having the bills, the party, and the state of each senator. Lets see how clustering will be applied on this data set."
   ]
  },
  {
   "cell_type": "markdown",
   "metadata": {},
   "source": [
    "## 1. Clustering\n",
    "Let's now use sklearn's ```AgglomerativeClustering``` to conduct the heirarchical clustering"
   ]
  },
  {
   "cell_type": "code",
   "execution_count": 23,
   "metadata": {},
   "outputs": [],
   "source": [
    "from sklearn.cluster import AgglomerativeClustering"
   ]
  },
  {
   "cell_type": "code",
   "execution_count": 24,
   "metadata": {},
   "outputs": [],
   "source": [
    "data=pd.read_csv('114_congress.csv')\n",
    "df_senate= data.copy()"
   ]
  },
  {
   "cell_type": "code",
   "execution_count": 25,
   "metadata": {},
   "outputs": [
    {
     "data": {
      "text/plain": [
       "(100, 18)"
      ]
     },
     "execution_count": 25,
     "metadata": {},
     "output_type": "execute_result"
    }
   ],
   "source": [
    "df_senate.shape"
   ]
  },
  {
   "cell_type": "code",
   "execution_count": 26,
   "metadata": {},
   "outputs": [
    {
     "data": {
      "text/html": [
       "<div>\n",
       "<style scoped>\n",
       "    .dataframe tbody tr th:only-of-type {\n",
       "        vertical-align: middle;\n",
       "    }\n",
       "\n",
       "    .dataframe tbody tr th {\n",
       "        vertical-align: top;\n",
       "    }\n",
       "\n",
       "    .dataframe thead th {\n",
       "        text-align: right;\n",
       "    }\n",
       "</style>\n",
       "<table border=\"1\" class=\"dataframe\">\n",
       "  <thead>\n",
       "    <tr style=\"text-align: right;\">\n",
       "      <th></th>\n",
       "      <th>name</th>\n",
       "      <th>party</th>\n",
       "      <th>state</th>\n",
       "      <th>Bill_1</th>\n",
       "      <th>Bill_4</th>\n",
       "      <th>Bill_5</th>\n",
       "      <th>Bill_6</th>\n",
       "      <th>Bill_7</th>\n",
       "      <th>Bill_8</th>\n",
       "      <th>Bill_9</th>\n",
       "      <th>Bill_10</th>\n",
       "      <th>Bill_20</th>\n",
       "      <th>Bill_26</th>\n",
       "      <th>Bill_32</th>\n",
       "      <th>Bill_38</th>\n",
       "      <th>Bill_39</th>\n",
       "      <th>Bill_44</th>\n",
       "      <th>Bill_47</th>\n",
       "    </tr>\n",
       "  </thead>\n",
       "  <tbody>\n",
       "    <tr>\n",
       "      <th>0</th>\n",
       "      <td>Alexander</td>\n",
       "      <td>R</td>\n",
       "      <td>TN</td>\n",
       "      <td>0.0</td>\n",
       "      <td>1.0</td>\n",
       "      <td>1.0</td>\n",
       "      <td>1.0</td>\n",
       "      <td>1.0</td>\n",
       "      <td>0.0</td>\n",
       "      <td>0.0</td>\n",
       "      <td>1.0</td>\n",
       "      <td>1.0</td>\n",
       "      <td>1.0</td>\n",
       "      <td>0.0</td>\n",
       "      <td>0.0</td>\n",
       "      <td>0.0</td>\n",
       "      <td>0.0</td>\n",
       "      <td>0.0</td>\n",
       "    </tr>\n",
       "    <tr>\n",
       "      <th>1</th>\n",
       "      <td>Ayotte</td>\n",
       "      <td>R</td>\n",
       "      <td>NH</td>\n",
       "      <td>0.0</td>\n",
       "      <td>1.0</td>\n",
       "      <td>1.0</td>\n",
       "      <td>1.0</td>\n",
       "      <td>1.0</td>\n",
       "      <td>0.0</td>\n",
       "      <td>0.0</td>\n",
       "      <td>1.0</td>\n",
       "      <td>0.0</td>\n",
       "      <td>1.0</td>\n",
       "      <td>0.0</td>\n",
       "      <td>1.0</td>\n",
       "      <td>0.0</td>\n",
       "      <td>1.0</td>\n",
       "      <td>0.0</td>\n",
       "    </tr>\n",
       "    <tr>\n",
       "      <th>2</th>\n",
       "      <td>Baldwin</td>\n",
       "      <td>D</td>\n",
       "      <td>WI</td>\n",
       "      <td>1.0</td>\n",
       "      <td>0.0</td>\n",
       "      <td>0.0</td>\n",
       "      <td>1.0</td>\n",
       "      <td>0.0</td>\n",
       "      <td>1.0</td>\n",
       "      <td>0.0</td>\n",
       "      <td>1.0</td>\n",
       "      <td>0.0</td>\n",
       "      <td>0.0</td>\n",
       "      <td>1.0</td>\n",
       "      <td>1.0</td>\n",
       "      <td>0.0</td>\n",
       "      <td>1.0</td>\n",
       "      <td>1.0</td>\n",
       "    </tr>\n",
       "    <tr>\n",
       "      <th>3</th>\n",
       "      <td>Barrasso</td>\n",
       "      <td>R</td>\n",
       "      <td>WY</td>\n",
       "      <td>0.0</td>\n",
       "      <td>1.0</td>\n",
       "      <td>1.0</td>\n",
       "      <td>1.0</td>\n",
       "      <td>1.0</td>\n",
       "      <td>0.0</td>\n",
       "      <td>1.0</td>\n",
       "      <td>1.0</td>\n",
       "      <td>1.0</td>\n",
       "      <td>1.0</td>\n",
       "      <td>0.0</td>\n",
       "      <td>0.0</td>\n",
       "      <td>1.0</td>\n",
       "      <td>0.0</td>\n",
       "      <td>0.0</td>\n",
       "    </tr>\n",
       "    <tr>\n",
       "      <th>4</th>\n",
       "      <td>Bennet</td>\n",
       "      <td>D</td>\n",
       "      <td>CO</td>\n",
       "      <td>0.0</td>\n",
       "      <td>0.0</td>\n",
       "      <td>0.0</td>\n",
       "      <td>1.0</td>\n",
       "      <td>0.0</td>\n",
       "      <td>1.0</td>\n",
       "      <td>0.0</td>\n",
       "      <td>1.0</td>\n",
       "      <td>0.0</td>\n",
       "      <td>0.0</td>\n",
       "      <td>0.0</td>\n",
       "      <td>1.0</td>\n",
       "      <td>0.0</td>\n",
       "      <td>1.0</td>\n",
       "      <td>0.0</td>\n",
       "    </tr>\n",
       "  </tbody>\n",
       "</table>\n",
       "</div>"
      ],
      "text/plain": [
       "        name party state  Bill_1  Bill_4  Bill_5  Bill_6  Bill_7  Bill_8  \\\n",
       "0  Alexander     R    TN     0.0     1.0     1.0     1.0     1.0     0.0   \n",
       "1     Ayotte     R    NH     0.0     1.0     1.0     1.0     1.0     0.0   \n",
       "2    Baldwin     D    WI     1.0     0.0     0.0     1.0     0.0     1.0   \n",
       "3   Barrasso     R    WY     0.0     1.0     1.0     1.0     1.0     0.0   \n",
       "4     Bennet     D    CO     0.0     0.0     0.0     1.0     0.0     1.0   \n",
       "\n",
       "   Bill_9  Bill_10  Bill_20  Bill_26  Bill_32  Bill_38  Bill_39  Bill_44  \\\n",
       "0     0.0      1.0      1.0      1.0      0.0      0.0      0.0      0.0   \n",
       "1     0.0      1.0      0.0      1.0      0.0      1.0      0.0      1.0   \n",
       "2     0.0      1.0      0.0      0.0      1.0      1.0      0.0      1.0   \n",
       "3     1.0      1.0      1.0      1.0      0.0      0.0      1.0      0.0   \n",
       "4     0.0      1.0      0.0      0.0      0.0      1.0      0.0      1.0   \n",
       "\n",
       "   Bill_47  \n",
       "0      0.0  \n",
       "1      0.0  \n",
       "2      1.0  \n",
       "3      0.0  \n",
       "4      0.0  "
      ]
     },
     "execution_count": 26,
     "metadata": {},
     "output_type": "execute_result"
    }
   ],
   "source": [
    "df_senate.head()"
   ]
  },
  {
   "cell_type": "code",
   "execution_count": 27,
   "metadata": {},
   "outputs": [
    {
     "data": {
      "text/plain": [
       "name        object\n",
       "party       object\n",
       "state       object\n",
       "Bill_1     float64\n",
       "Bill_4     float64\n",
       "Bill_5     float64\n",
       "Bill_6     float64\n",
       "Bill_7     float64\n",
       "Bill_8     float64\n",
       "Bill_9     float64\n",
       "Bill_10    float64\n",
       "Bill_20    float64\n",
       "Bill_26    float64\n",
       "Bill_32    float64\n",
       "Bill_38    float64\n",
       "Bill_39    float64\n",
       "Bill_44    float64\n",
       "Bill_47    float64\n",
       "dtype: object"
      ]
     },
     "execution_count": 27,
     "metadata": {},
     "output_type": "execute_result"
    }
   ],
   "source": [
    "df_senate.dtypes"
   ]
  },
  {
   "cell_type": "code",
   "execution_count": 28,
   "metadata": {},
   "outputs": [],
   "source": [
    "df_senate.set_index('name',inplace=True)"
   ]
  },
  {
   "cell_type": "code",
   "execution_count": 29,
   "metadata": {},
   "outputs": [
    {
     "data": {
      "text/html": [
       "<div>\n",
       "<style scoped>\n",
       "    .dataframe tbody tr th:only-of-type {\n",
       "        vertical-align: middle;\n",
       "    }\n",
       "\n",
       "    .dataframe tbody tr th {\n",
       "        vertical-align: top;\n",
       "    }\n",
       "\n",
       "    .dataframe thead th {\n",
       "        text-align: right;\n",
       "    }\n",
       "</style>\n",
       "<table border=\"1\" class=\"dataframe\">\n",
       "  <thead>\n",
       "    <tr style=\"text-align: right;\">\n",
       "      <th></th>\n",
       "      <th>party</th>\n",
       "      <th>state</th>\n",
       "      <th>Bill_1</th>\n",
       "      <th>Bill_4</th>\n",
       "      <th>Bill_5</th>\n",
       "      <th>Bill_6</th>\n",
       "      <th>Bill_7</th>\n",
       "      <th>Bill_8</th>\n",
       "      <th>Bill_9</th>\n",
       "      <th>Bill_10</th>\n",
       "      <th>Bill_20</th>\n",
       "      <th>Bill_26</th>\n",
       "      <th>Bill_32</th>\n",
       "      <th>Bill_38</th>\n",
       "      <th>Bill_39</th>\n",
       "      <th>Bill_44</th>\n",
       "      <th>Bill_47</th>\n",
       "    </tr>\n",
       "    <tr>\n",
       "      <th>name</th>\n",
       "      <th></th>\n",
       "      <th></th>\n",
       "      <th></th>\n",
       "      <th></th>\n",
       "      <th></th>\n",
       "      <th></th>\n",
       "      <th></th>\n",
       "      <th></th>\n",
       "      <th></th>\n",
       "      <th></th>\n",
       "      <th></th>\n",
       "      <th></th>\n",
       "      <th></th>\n",
       "      <th></th>\n",
       "      <th></th>\n",
       "      <th></th>\n",
       "      <th></th>\n",
       "    </tr>\n",
       "  </thead>\n",
       "  <tbody>\n",
       "    <tr>\n",
       "      <th>Alexander</th>\n",
       "      <td>R</td>\n",
       "      <td>TN</td>\n",
       "      <td>0.0</td>\n",
       "      <td>1.0</td>\n",
       "      <td>1.0</td>\n",
       "      <td>1.0</td>\n",
       "      <td>1.0</td>\n",
       "      <td>0.0</td>\n",
       "      <td>0.0</td>\n",
       "      <td>1.0</td>\n",
       "      <td>1.0</td>\n",
       "      <td>1.0</td>\n",
       "      <td>0.0</td>\n",
       "      <td>0.0</td>\n",
       "      <td>0.0</td>\n",
       "      <td>0.0</td>\n",
       "      <td>0.0</td>\n",
       "    </tr>\n",
       "    <tr>\n",
       "      <th>Ayotte</th>\n",
       "      <td>R</td>\n",
       "      <td>NH</td>\n",
       "      <td>0.0</td>\n",
       "      <td>1.0</td>\n",
       "      <td>1.0</td>\n",
       "      <td>1.0</td>\n",
       "      <td>1.0</td>\n",
       "      <td>0.0</td>\n",
       "      <td>0.0</td>\n",
       "      <td>1.0</td>\n",
       "      <td>0.0</td>\n",
       "      <td>1.0</td>\n",
       "      <td>0.0</td>\n",
       "      <td>1.0</td>\n",
       "      <td>0.0</td>\n",
       "      <td>1.0</td>\n",
       "      <td>0.0</td>\n",
       "    </tr>\n",
       "    <tr>\n",
       "      <th>Baldwin</th>\n",
       "      <td>D</td>\n",
       "      <td>WI</td>\n",
       "      <td>1.0</td>\n",
       "      <td>0.0</td>\n",
       "      <td>0.0</td>\n",
       "      <td>1.0</td>\n",
       "      <td>0.0</td>\n",
       "      <td>1.0</td>\n",
       "      <td>0.0</td>\n",
       "      <td>1.0</td>\n",
       "      <td>0.0</td>\n",
       "      <td>0.0</td>\n",
       "      <td>1.0</td>\n",
       "      <td>1.0</td>\n",
       "      <td>0.0</td>\n",
       "      <td>1.0</td>\n",
       "      <td>1.0</td>\n",
       "    </tr>\n",
       "    <tr>\n",
       "      <th>Barrasso</th>\n",
       "      <td>R</td>\n",
       "      <td>WY</td>\n",
       "      <td>0.0</td>\n",
       "      <td>1.0</td>\n",
       "      <td>1.0</td>\n",
       "      <td>1.0</td>\n",
       "      <td>1.0</td>\n",
       "      <td>0.0</td>\n",
       "      <td>1.0</td>\n",
       "      <td>1.0</td>\n",
       "      <td>1.0</td>\n",
       "      <td>1.0</td>\n",
       "      <td>0.0</td>\n",
       "      <td>0.0</td>\n",
       "      <td>1.0</td>\n",
       "      <td>0.0</td>\n",
       "      <td>0.0</td>\n",
       "    </tr>\n",
       "    <tr>\n",
       "      <th>Bennet</th>\n",
       "      <td>D</td>\n",
       "      <td>CO</td>\n",
       "      <td>0.0</td>\n",
       "      <td>0.0</td>\n",
       "      <td>0.0</td>\n",
       "      <td>1.0</td>\n",
       "      <td>0.0</td>\n",
       "      <td>1.0</td>\n",
       "      <td>0.0</td>\n",
       "      <td>1.0</td>\n",
       "      <td>0.0</td>\n",
       "      <td>0.0</td>\n",
       "      <td>0.0</td>\n",
       "      <td>1.0</td>\n",
       "      <td>0.0</td>\n",
       "      <td>1.0</td>\n",
       "      <td>0.0</td>\n",
       "    </tr>\n",
       "  </tbody>\n",
       "</table>\n",
       "</div>"
      ],
      "text/plain": [
       "          party state  Bill_1  Bill_4  Bill_5  Bill_6  Bill_7  Bill_8  Bill_9  \\\n",
       "name                                                                            \n",
       "Alexander     R    TN     0.0     1.0     1.0     1.0     1.0     0.0     0.0   \n",
       "Ayotte        R    NH     0.0     1.0     1.0     1.0     1.0     0.0     0.0   \n",
       "Baldwin       D    WI     1.0     0.0     0.0     1.0     0.0     1.0     0.0   \n",
       "Barrasso      R    WY     0.0     1.0     1.0     1.0     1.0     0.0     1.0   \n",
       "Bennet        D    CO     0.0     0.0     0.0     1.0     0.0     1.0     0.0   \n",
       "\n",
       "           Bill_10  Bill_20  Bill_26  Bill_32  Bill_38  Bill_39  Bill_44  \\\n",
       "name                                                                       \n",
       "Alexander      1.0      1.0      1.0      0.0      0.0      0.0      0.0   \n",
       "Ayotte         1.0      0.0      1.0      0.0      1.0      0.0      1.0   \n",
       "Baldwin        1.0      0.0      0.0      1.0      1.0      0.0      1.0   \n",
       "Barrasso       1.0      1.0      1.0      0.0      0.0      1.0      0.0   \n",
       "Bennet         1.0      0.0      0.0      0.0      1.0      0.0      1.0   \n",
       "\n",
       "           Bill_47  \n",
       "name                \n",
       "Alexander      0.0  \n",
       "Ayotte         0.0  \n",
       "Baldwin        1.0  \n",
       "Barrasso       0.0  \n",
       "Bennet         0.0  "
      ]
     },
     "execution_count": 29,
     "metadata": {},
     "output_type": "execute_result"
    }
   ],
   "source": [
    "df_senate.head()"
   ]
  },
  {
   "cell_type": "code",
   "execution_count": 30,
   "metadata": {},
   "outputs": [],
   "source": [
    "X=df_senate.drop(['party','state'], axis = 1)"
   ]
  },
  {
   "cell_type": "code",
   "execution_count": 31,
   "metadata": {},
   "outputs": [
    {
     "data": {
      "text/html": [
       "<div>\n",
       "<style scoped>\n",
       "    .dataframe tbody tr th:only-of-type {\n",
       "        vertical-align: middle;\n",
       "    }\n",
       "\n",
       "    .dataframe tbody tr th {\n",
       "        vertical-align: top;\n",
       "    }\n",
       "\n",
       "    .dataframe thead th {\n",
       "        text-align: right;\n",
       "    }\n",
       "</style>\n",
       "<table border=\"1\" class=\"dataframe\">\n",
       "  <thead>\n",
       "    <tr style=\"text-align: right;\">\n",
       "      <th></th>\n",
       "      <th>Bill_1</th>\n",
       "      <th>Bill_4</th>\n",
       "      <th>Bill_5</th>\n",
       "      <th>Bill_6</th>\n",
       "      <th>Bill_7</th>\n",
       "      <th>Bill_8</th>\n",
       "      <th>Bill_9</th>\n",
       "      <th>Bill_10</th>\n",
       "      <th>Bill_20</th>\n",
       "      <th>Bill_26</th>\n",
       "      <th>Bill_32</th>\n",
       "      <th>Bill_38</th>\n",
       "      <th>Bill_39</th>\n",
       "      <th>Bill_44</th>\n",
       "      <th>Bill_47</th>\n",
       "    </tr>\n",
       "    <tr>\n",
       "      <th>name</th>\n",
       "      <th></th>\n",
       "      <th></th>\n",
       "      <th></th>\n",
       "      <th></th>\n",
       "      <th></th>\n",
       "      <th></th>\n",
       "      <th></th>\n",
       "      <th></th>\n",
       "      <th></th>\n",
       "      <th></th>\n",
       "      <th></th>\n",
       "      <th></th>\n",
       "      <th></th>\n",
       "      <th></th>\n",
       "      <th></th>\n",
       "    </tr>\n",
       "  </thead>\n",
       "  <tbody>\n",
       "    <tr>\n",
       "      <th>Alexander</th>\n",
       "      <td>0.0</td>\n",
       "      <td>1.0</td>\n",
       "      <td>1.0</td>\n",
       "      <td>1.0</td>\n",
       "      <td>1.0</td>\n",
       "      <td>0.0</td>\n",
       "      <td>0.0</td>\n",
       "      <td>1.0</td>\n",
       "      <td>1.0</td>\n",
       "      <td>1.0</td>\n",
       "      <td>0.0</td>\n",
       "      <td>0.0</td>\n",
       "      <td>0.0</td>\n",
       "      <td>0.0</td>\n",
       "      <td>0.0</td>\n",
       "    </tr>\n",
       "    <tr>\n",
       "      <th>Ayotte</th>\n",
       "      <td>0.0</td>\n",
       "      <td>1.0</td>\n",
       "      <td>1.0</td>\n",
       "      <td>1.0</td>\n",
       "      <td>1.0</td>\n",
       "      <td>0.0</td>\n",
       "      <td>0.0</td>\n",
       "      <td>1.0</td>\n",
       "      <td>0.0</td>\n",
       "      <td>1.0</td>\n",
       "      <td>0.0</td>\n",
       "      <td>1.0</td>\n",
       "      <td>0.0</td>\n",
       "      <td>1.0</td>\n",
       "      <td>0.0</td>\n",
       "    </tr>\n",
       "    <tr>\n",
       "      <th>Baldwin</th>\n",
       "      <td>1.0</td>\n",
       "      <td>0.0</td>\n",
       "      <td>0.0</td>\n",
       "      <td>1.0</td>\n",
       "      <td>0.0</td>\n",
       "      <td>1.0</td>\n",
       "      <td>0.0</td>\n",
       "      <td>1.0</td>\n",
       "      <td>0.0</td>\n",
       "      <td>0.0</td>\n",
       "      <td>1.0</td>\n",
       "      <td>1.0</td>\n",
       "      <td>0.0</td>\n",
       "      <td>1.0</td>\n",
       "      <td>1.0</td>\n",
       "    </tr>\n",
       "    <tr>\n",
       "      <th>Barrasso</th>\n",
       "      <td>0.0</td>\n",
       "      <td>1.0</td>\n",
       "      <td>1.0</td>\n",
       "      <td>1.0</td>\n",
       "      <td>1.0</td>\n",
       "      <td>0.0</td>\n",
       "      <td>1.0</td>\n",
       "      <td>1.0</td>\n",
       "      <td>1.0</td>\n",
       "      <td>1.0</td>\n",
       "      <td>0.0</td>\n",
       "      <td>0.0</td>\n",
       "      <td>1.0</td>\n",
       "      <td>0.0</td>\n",
       "      <td>0.0</td>\n",
       "    </tr>\n",
       "    <tr>\n",
       "      <th>Bennet</th>\n",
       "      <td>0.0</td>\n",
       "      <td>0.0</td>\n",
       "      <td>0.0</td>\n",
       "      <td>1.0</td>\n",
       "      <td>0.0</td>\n",
       "      <td>1.0</td>\n",
       "      <td>0.0</td>\n",
       "      <td>1.0</td>\n",
       "      <td>0.0</td>\n",
       "      <td>0.0</td>\n",
       "      <td>0.0</td>\n",
       "      <td>1.0</td>\n",
       "      <td>0.0</td>\n",
       "      <td>1.0</td>\n",
       "      <td>0.0</td>\n",
       "    </tr>\n",
       "  </tbody>\n",
       "</table>\n",
       "</div>"
      ],
      "text/plain": [
       "           Bill_1  Bill_4  Bill_5  Bill_6  Bill_7  Bill_8  Bill_9  Bill_10  \\\n",
       "name                                                                         \n",
       "Alexander     0.0     1.0     1.0     1.0     1.0     0.0     0.0      1.0   \n",
       "Ayotte        0.0     1.0     1.0     1.0     1.0     0.0     0.0      1.0   \n",
       "Baldwin       1.0     0.0     0.0     1.0     0.0     1.0     0.0      1.0   \n",
       "Barrasso      0.0     1.0     1.0     1.0     1.0     0.0     1.0      1.0   \n",
       "Bennet        0.0     0.0     0.0     1.0     0.0     1.0     0.0      1.0   \n",
       "\n",
       "           Bill_20  Bill_26  Bill_32  Bill_38  Bill_39  Bill_44  Bill_47  \n",
       "name                                                                      \n",
       "Alexander      1.0      1.0      0.0      0.0      0.0      0.0      0.0  \n",
       "Ayotte         0.0      1.0      0.0      1.0      0.0      1.0      0.0  \n",
       "Baldwin        0.0      0.0      1.0      1.0      0.0      1.0      1.0  \n",
       "Barrasso       1.0      1.0      0.0      0.0      1.0      0.0      0.0  \n",
       "Bennet         0.0      0.0      0.0      1.0      0.0      1.0      0.0  "
      ]
     },
     "execution_count": 31,
     "metadata": {},
     "output_type": "execute_result"
    }
   ],
   "source": [
    "X.head()"
   ]
  },
  {
   "cell_type": "code",
   "execution_count": 32,
   "metadata": {},
   "outputs": [],
   "source": [
    "Y=df_senate['party']"
   ]
  },
  {
   "cell_type": "code",
   "execution_count": 33,
   "metadata": {},
   "outputs": [
    {
     "data": {
      "text/plain": [
       "name\n",
       "Alexander    R\n",
       "Ayotte       R\n",
       "Baldwin      D\n",
       "Barrasso     R\n",
       "Bennet       D\n",
       "Name: party, dtype: object"
      ]
     },
     "execution_count": 33,
     "metadata": {},
     "output_type": "execute_result"
    }
   ],
   "source": [
    "Y.head()"
   ]
  },
  {
   "cell_type": "markdown",
   "metadata": {},
   "source": [
    "### Hierarchical Clustering\n",
    "\n",
    "Ward is the default linkage algorithm, so we'll start with that"
   ]
  },
  {
   "cell_type": "code",
   "execution_count": 34,
   "metadata": {},
   "outputs": [],
   "source": [
    "ward = AgglomerativeClustering(n_clusters=3)\n",
    "ward_pred = ward.fit_predict(X)"
   ]
  },
  {
   "cell_type": "markdown",
   "metadata": {},
   "source": [
    "Let's also try complete and average linkages\n",
    "\n",
    "**Task 3**:\n",
    "* Conduct hierarchical clustering with complete linkage, store the predicted labels in the variable ```complete_pred```\n",
    "* Conduct hierarchical clustering with average linkage, store the predicted labels in the variable ```avg_pred```"
   ]
  },
  {
   "cell_type": "code",
   "execution_count": 39,
   "metadata": {},
   "outputs": [],
   "source": [
    "# Hierarchical clustering using complete linkage\n",
    "# Write the code to create an instance of AgglomerativeClustering with the appropriate parameters\n",
    "complete = AgglomerativeClustering(n_clusters=3, linkage = 'complete')\n",
    "\n",
    "# Fit & predict\n",
    "# Write a code to make AgglomerativeClustering fit the dataset and predict the cluster labels\n",
    "complete_pred = complete.fit_predict(X)\n",
    "\n",
    "# Hierarchical clustering using average linkage\n",
    "# Write the code to create an instance of AgglomerativeClustering with the appropriate parameters\n",
    "avg = AgglomerativeClustering(n_clusters=3, linkage = 'average')\n",
    "\n",
    "# Fit & predict\n",
    "# Write a code to make AgglomerativeClustering fit the dataset and predict the cluster labels\n",
    "avg_pred = avg.fit_predict(X)"
   ]
  },
  {
   "cell_type": "code",
   "execution_count": 45,
   "metadata": {},
   "outputs": [
    {
     "data": {
      "text/plain": [
       "array([0, 0, 1, 0, 1, 1, 0, 1, 0, 1, 1, 0, 1, 0, 1, 1, 1, 0, 0, 0, 0, 1,\n",
       "       0, 0, 0, 0, 0, 0, 1, 1, 0, 0, 1, 0, 0, 1, 0, 1, 0, 0, 0, 1, 2, 0,\n",
       "       1, 0, 0, 0, 0, 1, 1, 0, 1, 0, 1, 0, 2, 1, 0, 1, 0, 1, 1, 1, 0, 0,\n",
       "       1, 1, 1, 0, 0, 1, 0, 1, 0, 0, 0, 0, 0, 1, 0, 1, 1, 0, 0, 1, 0, 1,\n",
       "       0, 1, 0, 0, 0, 1, 0, 1, 1, 1, 0, 1], dtype=int64)"
      ]
     },
     "execution_count": 45,
     "metadata": {},
     "output_type": "execute_result"
    }
   ],
   "source": [
    "avg_pred"
   ]
  },
  {
   "cell_type": "code",
   "execution_count": 43,
   "metadata": {},
   "outputs": [
    {
     "data": {
      "text/plain": [
       "AgglomerativeClustering(affinity='euclidean', compute_full_tree='auto',\n",
       "            connectivity=None, linkage='average', memory=None,\n",
       "            n_clusters=3,\n",
       "            pooling_func=<function mean at 0x0000000004FBC9D8>)"
      ]
     },
     "execution_count": 43,
     "metadata": {},
     "output_type": "execute_result"
    }
   ],
   "source": [
    "avg"
   ]
  },
  {
   "cell_type": "code",
   "execution_count": 42,
   "metadata": {},
   "outputs": [
    {
     "data": {
      "text/plain": [
       "AgglomerativeClustering(affinity='euclidean', compute_full_tree='auto',\n",
       "            connectivity=None, linkage='complete', memory=None,\n",
       "            n_clusters=3,\n",
       "            pooling_func=<function mean at 0x0000000004FBC9D8>)"
      ]
     },
     "execution_count": 42,
     "metadata": {},
     "output_type": "execute_result"
    }
   ],
   "source": [
    "complete"
   ]
  },
  {
   "cell_type": "markdown",
   "metadata": {},
   "source": [
    "To determine which clustering result better matches the original labels of the samples, we can use ```adjusted_rand_score``` which is an *external cluster validation index* which results in a score between -1 and 1, where 1 means two clusterings are identical of how they grouped the samples in a dataset (regardless of what label is assigned to each cluster).\n",
    "\n",
    "Cluster validation indices are discussed later in the course."
   ]
  },
  {
   "cell_type": "code",
   "execution_count": 46,
   "metadata": {},
   "outputs": [],
   "source": [
    "from sklearn.metrics import adjusted_rand_score\n",
    "\n",
    "ward_ar_score = adjusted_rand_score(Y, ward_pred)"
   ]
  },
  {
   "cell_type": "markdown",
   "metadata": {},
   "source": [
    "**Task 4**:\n",
    "* Calculate the Adjusted Rand score of the clusters resulting from complete linkage and average linkage"
   ]
  },
  {
   "cell_type": "code",
   "execution_count": 47,
   "metadata": {},
   "outputs": [],
   "source": [
    "# Write the code to calculate the adjusted Rand score for the complete linkage clustering labels\n",
    "complete_ar_score = adjusted_rand_score(Y, complete_pred)\n",
    "\n",
    "# Write a code to calculate the adjusted Rand score for the average linkage clustering labels\n",
    "avg_ar_score = adjusted_rand_score(Y, avg_pred)"
   ]
  },
  {
   "cell_type": "markdown",
   "metadata": {},
   "source": [
    "Which algorithm results in the higher Adjusted Rand Score?"
   ]
  },
  {
   "cell_type": "code",
   "execution_count": 48,
   "metadata": {
    "scrolled": true
   },
   "outputs": [
    {
     "name": "stdout",
     "output_type": "stream",
     "text": [
      "Scores: \n",
      "Ward: 0.8110199642721615 \n",
      "Complete:  0.8944016485750291 \n",
      "Average:  0.8944016485750291\n"
     ]
    }
   ],
   "source": [
    "print( \"Scores: \\nWard:\", ward_ar_score,\"\\nComplete: \", complete_ar_score, \"\\nAverage: \", avg_ar_score)"
   ]
  },
  {
   "cell_type": "code",
   "execution_count": 49,
   "metadata": {},
   "outputs": [
    {
     "data": {
      "text/plain": [
       "array([0, 0, 1, 0, 1, 1, 0, 1, 0, 1, 1, 0, 1, 0, 1, 1, 1, 0, 0, 0, 0, 1,\n",
       "       0, 0, 0, 0, 0, 0, 1, 1, 0, 0, 1, 0, 0, 1, 0, 1, 0, 0, 0, 1, 2, 0,\n",
       "       1, 0, 0, 0, 0, 1, 1, 0, 1, 0, 1, 0, 2, 1, 0, 1, 0, 1, 1, 1, 0, 0,\n",
       "       1, 1, 1, 0, 0, 1, 0, 1, 0, 0, 0, 0, 0, 1, 0, 1, 1, 0, 0, 1, 0, 1,\n",
       "       0, 1, 0, 0, 0, 1, 0, 1, 1, 1, 0, 1], dtype=int64)"
      ]
     },
     "execution_count": 49,
     "metadata": {},
     "output_type": "execute_result"
    }
   ],
   "source": [
    "complete_pred"
   ]
  },
  {
   "cell_type": "code",
   "execution_count": 50,
   "metadata": {
    "scrolled": true
   },
   "outputs": [
    {
     "name": "stdout",
     "output_type": "stream",
     "text": [
      "party   D  I   R\n",
      "row_0           \n",
      "0       1  0  54\n",
      "1      41  2   0\n",
      "2       2  0   0\n"
     ]
    }
   ],
   "source": [
    "print(pd.crosstab(complete_pred, df_senate[\"party\"]))"
   ]
  },
  {
   "cell_type": "markdown",
   "metadata": {},
   "source": [
    "## 3. Dendrogram visualization with scipy\n",
    "\n",
    "Let's visualize the highest scoring clustering result. \n",
    "\n",
    "To do that, we'll need to use Scipy's [```linkage```](https://docs.scipy.org/doc/scipy/reference/generated/scipy.cluster.hierarchy.linkage.html) function to perform the clusteirng again so we can obtain the linkage matrix it will later use to visualize the hierarchy"
   ]
  },
  {
   "cell_type": "markdown",
   "metadata": {},
   "source": [
    "**Task 5:** Specify the linkage type. Scipy accepts 'ward', 'complete', 'average', as well as other values. Pick the one that resulted in the highest Adjusted Rand Score"
   ]
  },
  {
   "cell_type": "code",
   "execution_count": 56,
   "metadata": {},
   "outputs": [],
   "source": [
    "# Import scipy's linkage function to conduct the clustering\n",
    "from scipy.cluster.hierarchy import linkage\n",
    "\n",
    "#Write code here\n",
    "linkage_type = 'complete' \n",
    "\n",
    "linkage_matrix = linkage(X, linkage_type)"
   ]
  },
  {
   "cell_type": "code",
   "execution_count": 53,
   "metadata": {},
   "outputs": [
    {
     "data": {
      "text/plain": [
       "array([[  1.        ,  20.        ,   0.        ,   2.        ],\n",
       "       [  2.        ,   5.        ,   0.        ,   2.        ],\n",
       "       [  3.        ,   6.        ,   0.        ,   2.        ],\n",
       "       [  7.        , 101.        ,   0.        ,   3.        ],\n",
       "       [  8.        , 102.        ,   0.        ,   3.        ],\n",
       "       [ 10.        , 103.        ,   0.        ,   4.        ],\n",
       "       [ 17.        , 104.        ,   0.        ,   4.        ],\n",
       "       [ 12.        , 105.        ,   0.        ,   5.        ],\n",
       "       [ 14.        , 107.        ,   0.        ,   6.        ],\n",
       "       [ 29.        , 108.        ,   0.        ,   7.        ],\n",
       "       [ 32.        , 109.        ,   0.        ,   8.        ],\n",
       "       [ 37.        , 110.        ,   0.        ,   9.        ],\n",
       "       [ 44.        , 111.        ,   0.        ,  10.        ],\n",
       "       [ 41.        ,  50.        ,   0.        ,   2.        ],\n",
       "       [ 54.        , 112.        ,   0.        ,  11.        ],\n",
       "       [ 71.        , 113.        ,   0.        ,   3.        ],\n",
       "       [ 57.        , 114.        ,   0.        ,  12.        ],\n",
       "       [ 61.        , 116.        ,   0.        ,  13.        ],\n",
       "       [ 62.        , 117.        ,   0.        ,  14.        ],\n",
       "       [ 63.        , 118.        ,   0.        ,  15.        ],\n",
       "       [ 66.        , 119.        ,   0.        ,  16.        ],\n",
       "       [ 67.        , 120.        ,   0.        ,  17.        ],\n",
       "       [ 73.        , 121.        ,   0.        ,  18.        ],\n",
       "       [ 87.        , 115.        ,   0.        ,   4.        ],\n",
       "       [ 79.        , 122.        ,   0.        ,  19.        ],\n",
       "       [ 81.        , 124.        ,   0.        ,  20.        ],\n",
       "       [ 82.        , 125.        ,   0.        ,  21.        ],\n",
       "       [ 85.        , 126.        ,   0.        ,  22.        ],\n",
       "       [ 93.        , 127.        ,   0.        ,  23.        ],\n",
       "       [ 18.        , 106.        ,   0.        ,   5.        ],\n",
       "       [ 19.        , 129.        ,   0.        ,   6.        ],\n",
       "       [ 22.        , 130.        ,   0.        ,   7.        ],\n",
       "       [ 23.        , 131.        ,   0.        ,   8.        ],\n",
       "       [ 24.        , 132.        ,   0.        ,   9.        ],\n",
       "       [ 25.        , 133.        ,   0.        ,  10.        ],\n",
       "       [ 27.        , 134.        ,   0.        ,  11.        ],\n",
       "       [ 30.        , 135.        ,   0.        ,  12.        ],\n",
       "       [ 31.        , 136.        ,   0.        ,  13.        ],\n",
       "       [ 33.        , 137.        ,   0.        ,  14.        ],\n",
       "       [ 34.        , 138.        ,   0.        ,  15.        ],\n",
       "       [ 39.        , 139.        ,   0.        ,  16.        ],\n",
       "       [ 40.        , 140.        ,   0.        ,  17.        ],\n",
       "       [ 45.        , 141.        ,   0.        ,  18.        ],\n",
       "       [ 46.        , 142.        ,   0.        ,  19.        ],\n",
       "       [ 47.        , 143.        ,   0.        ,  20.        ],\n",
       "       [ 48.        , 144.        ,   0.        ,  21.        ],\n",
       "       [ 58.        , 145.        ,   0.        ,  22.        ],\n",
       "       [ 60.        , 146.        ,   0.        ,  23.        ],\n",
       "       [ 64.        , 147.        ,   0.        ,  24.        ],\n",
       "       [ 65.        , 148.        ,   0.        ,  25.        ],\n",
       "       [ 70.        , 149.        ,   0.        ,  26.        ],\n",
       "       [ 72.        , 150.        ,   0.        ,  27.        ],\n",
       "       [ 75.        , 151.        ,   0.        ,  28.        ],\n",
       "       [ 76.        , 152.        ,   0.        ,  29.        ],\n",
       "       [ 77.        , 153.        ,   0.        ,  30.        ],\n",
       "       [ 83.        , 154.        ,   0.        ,  31.        ],\n",
       "       [ 84.        , 155.        ,   0.        ,  32.        ],\n",
       "       [ 86.        , 156.        ,   0.        ,  33.        ],\n",
       "       [ 88.        , 157.        ,   0.        ,  34.        ],\n",
       "       [ 90.        , 158.        ,   0.        ,  35.        ],\n",
       "       [ 91.        , 159.        ,   0.        ,  36.        ],\n",
       "       [ 92.        , 160.        ,   0.        ,  37.        ],\n",
       "       [ 94.        , 161.        ,   0.        ,  38.        ],\n",
       "       [ 59.        ,  89.        ,   0.        ,   2.        ],\n",
       "       [ 96.        , 128.        ,   0.        ,  24.        ],\n",
       "       [ 97.        , 164.        ,   0.        ,  25.        ],\n",
       "       [ 99.        , 165.        ,   0.        ,  26.        ],\n",
       "       [ 21.        ,  35.        ,   0.        ,   2.        ],\n",
       "       [ 26.        ,  53.        ,   0.        ,   2.        ],\n",
       "       [ 69.        , 168.        ,   0.        ,   3.        ],\n",
       "       [ 80.        , 169.        ,   0.        ,   4.        ],\n",
       "       [  9.        , 123.        ,   0.5       ,   5.        ],\n",
       "       [ 13.        , 162.        ,   0.5       ,  39.        ],\n",
       "       [166.        , 167.        ,   0.5       ,  28.        ],\n",
       "       [ 55.        , 170.        ,   0.70710678,   5.        ],\n",
       "       [ 38.        , 172.        ,   0.8660254 ,  40.        ],\n",
       "       [  0.        ,  36.        ,   1.        ,   2.        ],\n",
       "       [  4.        ,  15.        ,   1.        ,   2.        ],\n",
       "       [ 49.        ,  52.        ,   1.        ,   2.        ],\n",
       "       [ 16.        , 171.        ,   1.11803399,   6.        ],\n",
       "       [ 43.        ,  78.        ,   1.11803399,   2.        ],\n",
       "       [ 68.        , 173.        ,   1.11803399,  29.        ],\n",
       "       [ 11.        , 175.        ,   1.22474487,  41.        ],\n",
       "       [163.        , 177.        ,   1.41421356,   4.        ],\n",
       "       [ 42.        ,  56.        ,   1.41421356,   2.        ],\n",
       "       [ 95.        , 178.        ,   1.41421356,   3.        ],\n",
       "       [ 98.        , 182.        ,   1.41421356,  42.        ],\n",
       "       [ 51.        , 180.        ,   1.5       ,   3.        ],\n",
       "       [174.        , 186.        ,   1.58113883,  47.        ],\n",
       "       [179.        , 181.        ,   1.73205081,  35.        ],\n",
       "       [176.        , 188.        ,   1.87082869,  49.        ],\n",
       "       [ 74.        , 100.        ,   1.93649167,   3.        ],\n",
       "       [ 28.        , 183.        ,   2.        ,   5.        ],\n",
       "       [185.        , 192.        ,   2.        ,   8.        ],\n",
       "       [187.        , 190.        ,   2.23606798,  52.        ],\n",
       "       [189.        , 193.        ,   2.23606798,  43.        ],\n",
       "       [191.        , 194.        ,   2.44948974,  55.        ],\n",
       "       [184.        , 196.        ,   3.        ,  57.        ],\n",
       "       [195.        , 197.        ,   3.74165739, 100.        ]])"
      ]
     },
     "execution_count": 53,
     "metadata": {},
     "output_type": "execute_result"
    }
   ],
   "source": [
    "linkage_matrix"
   ]
  },
  {
   "cell_type": "markdown",
   "metadata": {},
   "source": [
    "**Task 6:**\n",
    "\n",
    "Plot a dendogram using scipy's [dendrogram()](https://docs.scipy.org/doc/scipy-0.14.0/reference/generated/scipy.cluster.hierarchy.dendrogram.html) function\n",
    "\n",
    "- leaf_font_size=10\n",
    "- labels=X.index\n",
    "- orientation=\"right\"\n",
    "- figsize=(15,18)"
   ]
  },
  {
   "cell_type": "code",
   "execution_count": 59,
   "metadata": {
    "scrolled": false
   },
   "outputs": [
    {
     "data": {
      "image/png": "[encoded data removed]",
      "text/plain": [
       "<Figure size 1080x1296 with 1 Axes>"
      ]
     },
     "metadata": {
      "needs_background": "light"
     },
     "output_type": "display_data"
    }
   ],
   "source": [
    "# write the code to plot using 'dendrogram()'\n",
    "from scipy.cluster.hierarchy import dendrogram\n",
    "import matplotlib.pyplot as plt\n",
    "plt.figure(figsize=(15,18))\n",
    "dendrogram(linkage_matrix, leaf_font_size=10, labels=X.index, orientation=\"right\")\n",
    "plt.show()\n"
   ]
  },
  {
   "cell_type": "markdown",
   "metadata": {},
   "source": [
    "## 4. Visualization with Seaborn's ```clustermap``` \n",
    "\n",
    "The [seaborn](http://seaborn.pydata.org/index.html) plotting library for python can plot a [clustermap](http://seaborn.pydata.org/generated/seaborn.clustermap.html), which is a detailed dendrogram which also visualizes the dataset in more detail. It conducts the clustering as well, so we only need to pass it the dataset and the linkage type we want, and it will use scipy internally to conduct the clustering"
   ]
  },
  {
   "cell_type": "code",
   "execution_count": 60,
   "metadata": {
    "scrolled": false
   },
   "outputs": [
    {
     "data": {
      "image/png": "[encoded data removed]",
      "text/plain": [
       "<Figure size 864x720 with 5 Axes>"
      ]
     },
     "metadata": {
      "needs_background": "light"
     },
     "output_type": "display_data"
    }
   ],
   "source": [
    "import seaborn as sns\n",
    "lut = dict(zip(Y, \"rbg\"))\n",
    "row_colors = Y.map(lut)\n",
    "sns.clustermap(X, row_colors=row_colors, figsize=(12,10),method='complete')\n",
    "plt.show()"
   ]
  },
  {
   "cell_type": "markdown",
   "metadata": {},
   "source": [
    "Looking at the colors of the dimensions can you observe how they different senators have voted. The bar on the extreme left shows the party they belong to. The plot on the whole shows which of the senators have voted, which have not and which of them have abstained. "
   ]
  },
  {
   "cell_type": "code",
   "execution_count": null,
   "metadata": {},
   "outputs": [],
   "source": []
  }
 ],
 "metadata": {
  "anaconda-cloud": {},
  "kernelspec": {
   "display_name": "Python 3",
   "language": "python",
   "name": "python3"
  },
  "language_info": {
   "codemirror_mode": {
    "name": "ipython",
    "version": 3
   },
   "file_extension": ".py",
   "mimetype": "text/x-python",
   "name": "python",
   "nbconvert_exporter": "python",
   "pygments_lexer": "ipython3",
   "version": "3.7.0"
  }
 },
 "nbformat": 4,
 "nbformat_minor": 1
}
