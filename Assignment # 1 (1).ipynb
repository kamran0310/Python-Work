{
 "cells": [
  {
   "cell_type": "markdown",
   "metadata": {},
   "source": [
    "# Assignment 1"
   ]
  },
  {
   "cell_type": "markdown",
   "metadata": {},
   "source": [
    "**Note:** You need to run each cell where we have provided you some pre-defined variables for tasks"
   ]
  },
  {
   "cell_type": "markdown",
   "metadata": {},
   "source": [
    "### Task 1"
   ]
  },
  {
   "cell_type": "code",
   "execution_count": null,
   "metadata": {},
   "outputs": [],
   "source": [
    "#write code here"
   ]
  },
  {
   "cell_type": "markdown",
   "metadata": {},
   "source": [
    "Use **for** loop to create **list** like this: <mark>['w','o','r','d']</mark> and save it in <mark>my_list</mark>\n",
    "\n",
    "Hint: use append method"
   ]
  },
  {
   "cell_type": "code",
   "execution_count": 12,
   "metadata": {},
   "outputs": [],
   "source": [
    "#write code here\n",
    "#Start\n",
    "#declare a list\n",
    "my_list = []\n",
    "#declare and initialize a string\n",
    "my_string = \"w,o,r,d\"\n",
    "#split a string \n",
    "my_string_split = my_string.split(\",\")\n",
    "\n",
    "#store the split string in my_list\n",
    "for i in range(4):\n",
    "    my_list.append(my_string_split[i])"
   ]
  },
  {
   "cell_type": "code",
   "execution_count": 13,
   "metadata": {},
   "outputs": [
    {
     "name": "stdout",
     "output_type": "stream",
     "text": [
      "['w', 'o', 'r', 'd']\n"
     ]
    }
   ],
   "source": [
    "# print my_list\n",
    "print(my_list)"
   ]
  },
  {
   "cell_type": "markdown",
   "metadata": {},
   "source": [
    "### Task 2"
   ]
  },
  {
   "cell_type": "markdown",
   "metadata": {},
   "source": [
    "Write markdown code to embed a website link inside text: <mark>Jupyter Markdown Cheat Sheet</mark>.\n",
    "\n",
    "Website link is: https://medium.com/ibm-data-science-experience/markdown-for-jupyter-notebooks-cheatsheet-386c05aeebed"
   ]
  },
  {
   "cell_type": "markdown",
   "metadata": {},
   "source": [
    "Hint: Just like we have embeded link here [Here](https://i.pinimg.com/originals/b8/bf/86/b8bf8658dd216b2ec14a1b9a27123f20.gif)"
   ]
  },
  {
   "cell_type": "markdown",
   "metadata": {},
   "source": [
    "### write markdown code here and convert this cell to markdown before running\n",
    "#### Here is the code\n",
    "\n",
    "[Jupyter Markdown Cheat Sheet](https://medium.com/ibm-data-science-experience/markdown-for-jupyter-notebooks-cheatsheet-386c05aeebed)"
   ]
  },
  {
   "cell_type": "markdown",
   "metadata": {},
   "source": [
    "### Task 3"
   ]
  },
  {
   "cell_type": "markdown",
   "metadata": {},
   "source": [
    "Find maximum and minimum value from given list <mark>my_list1</mark>"
   ]
  },
  {
   "cell_type": "markdown",
   "metadata": {},
   "source": [
    "Hint: Check control flow notebook"
   ]
  },
  {
   "cell_type": "code",
   "execution_count": 20,
   "metadata": {},
   "outputs": [],
   "source": [
    "my_list1=[23,3456,67,6,34,87,1224,7689,22,675,809,323,779]"
   ]
  },
  {
   "cell_type": "code",
   "execution_count": 27,
   "metadata": {},
   "outputs": [
    {
     "data": {
      "text/plain": [
       "6"
      ]
     },
     "execution_count": 27,
     "metadata": {},
     "output_type": "execute_result"
    }
   ],
   "source": [
    "# write code here\n",
    "#minimum number\n",
    "min(my_list1)"
   ]
  },
  {
   "cell_type": "code",
   "execution_count": 28,
   "metadata": {},
   "outputs": [
    {
     "data": {
      "text/plain": [
       "7689"
      ]
     },
     "execution_count": 28,
     "metadata": {},
     "output_type": "execute_result"
    }
   ],
   "source": [
    "# write code here\n",
    "#maximum number\n",
    "max(my_list1)"
   ]
  },
  {
   "cell_type": "markdown",
   "metadata": {},
   "source": [
    "### Task 4"
   ]
  },
  {
   "cell_type": "markdown",
   "metadata": {},
   "source": [
    "Write code to check if input number is greater than, less than or equal to 50. Loop should be continuous and command of **exit** should end the infinite while loop"
   ]
  },
  {
   "cell_type": "markdown",
   "metadata": {},
   "source": [
    "Hint: you need to used input() fucntion and cast the value to 'int' for conditions but don't cast when 'exit'."
   ]
  },
  {
   "cell_type": "code",
   "execution_count": 254,
   "metadata": {},
   "outputs": [
    {
     "name": "stdout",
     "output_type": "stream",
     "text": [
      "Enter a number \n",
      "Enter exit to exit the program\n",
      "20\n",
      "The number 20 is less than 50\n",
      "Enter a number \n",
      "Enter exit to exit the program\n",
      "50\n",
      "The number 50 is exactly 50\n",
      "Enter a number \n",
      "Enter exit to exit the program\n",
      "100\n",
      "The number 100 is greater than 50\n",
      "Enter a number \n",
      "Enter exit to exit the program\n",
      "exit\n"
     ]
    }
   ],
   "source": [
    "# write code here\n",
    "import sys\n",
    "# Take input from the user\n",
    "number = input(\"Enter a number \\nEnter exit to exit the program\\n\")\n",
    "if number.isdigit() or number == \"exit\":\n",
    "    while number != \"exit\":\n",
    "        if int(number) < 50:\n",
    "            print(\"The number \" + number + \" is less than 50\")\n",
    "            number = input(\"Enter a number \\nEnter exit to exit the program\\n\")\n",
    "        elif int(number) == 50:\n",
    "            print(\"The number \" + number + \" is exactly 50\")\n",
    "            number = input(\"Enter a number \\nEnter exit to exit the program\\n\")\n",
    "        else:\n",
    "            print(\"The number \" + number + \" is greater than 50\")\n",
    "            number = input(\"Enter a number \\nEnter exit to exit the program\\n\")\n",
    "else:\n",
    "    print(\"You have entered an invalid number\")\n",
    "    sys.exit()"
   ]
  },
  {
   "cell_type": "markdown",
   "metadata": {},
   "source": [
    "### Task 5"
   ]
  },
  {
   "cell_type": "markdown",
   "metadata": {},
   "source": [
    "Create dictionary named <mark>europs</mark> from provided lists: <mark>countries</mark> and <mark>capitals</mark> using **for** loop"
   ]
  },
  {
   "cell_type": "markdown",
   "metadata": {},
   "source": [
    "Hint: using enumerate() function with for loop"
   ]
  },
  {
   "cell_type": "code",
   "execution_count": 32,
   "metadata": {},
   "outputs": [],
   "source": [
    "# Definition of countries and capital\n",
    "countries = ['spain', 'france', 'germany', 'norway']\n",
    "capitals = ['madrid', 'paris', 'berlin', 'oslo']"
   ]
  },
  {
   "cell_type": "code",
   "execution_count": 68,
   "metadata": {},
   "outputs": [],
   "source": [
    "# write code here\n",
    "europe = {}\n",
    "for index, country in enumerate(countries):\n",
    "    europe[country] = capitals[i]\n"
   ]
  },
  {
   "cell_type": "code",
   "execution_count": 69,
   "metadata": {},
   "outputs": [
    {
     "name": "stdout",
     "output_type": "stream",
     "text": [
      "{'spain': 'madrid', 'france': 'madrid', 'germany': 'madrid', 'norway': 'madrid'}\n"
     ]
    }
   ],
   "source": [
    "# print europe\n",
    "print(europe)"
   ]
  },
  {
   "cell_type": "markdown",
   "metadata": {},
   "source": [
    "### Task 6"
   ]
  },
  {
   "cell_type": "markdown",
   "metadata": {},
   "source": [
    "Use markdown code to print image on below website link here inside Jupyter notebook markdown.\n",
    "\n",
    "Web link: https://i.pinimg.com/originals/b8/bf/86/b8bf8658dd216b2ec14a1b9a27123f20.gif"
   ]
  },
  {
   "cell_type": "markdown",
   "metadata": {},
   "source": [
    "Hint: [here](https://medium.com/ibm-data-science-experience/markdown-for-jupyter-notebooks-cheatsheet-386c05aeebed)"
   ]
  },
  {
   "cell_type": "markdown",
   "metadata": {},
   "source": [
    "### write markdown code here and convert this cell to markdown before running\n",
    "![title](https://i.pinimg.com/originals/b8/bf/86/b8bf8658dd216b2ec14a1b9a27123f20.gif)"
   ]
  },
  {
   "cell_type": "markdown",
   "metadata": {},
   "source": [
    "### Task 7"
   ]
  },
  {
   "cell_type": "markdown",
   "metadata": {},
   "source": [
    "Convert object types of values in below mentioned defined dictionary. Check comments for required task."
   ]
  },
  {
   "cell_type": "markdown",
   "metadata": {},
   "source": [
    "Hint: Expected final out of dictionary should be:\n",
    "```python\n",
    "{'animal':['Dog','Cat'],'age':[4.0,5.0],'bark':[1,0],'badge_num':[234,896]}\n",
    "```"
   ]
  },
  {
   "cell_type": "code",
   "execution_count": 245,
   "metadata": {},
   "outputs": [],
   "source": [
    "my_dict={'animal':['Dog','Cat'],'age':[4,5],'bark':[True,False],'badge_num':['234','896']}"
   ]
  },
  {
   "cell_type": "code",
   "execution_count": 246,
   "metadata": {},
   "outputs": [
    {
     "data": {
      "text/plain": [
       "{'animal': ['Dog', 'Cat'],\n",
       " 'age': [4.0, 5.0],\n",
       " 'bark': [True, False],\n",
       " 'badge_num': ['234', '896']}"
      ]
     },
     "execution_count": 246,
     "metadata": {},
     "output_type": "execute_result"
    }
   ],
   "source": [
    "#cast 'age' to float\n",
    "for i in range(len(my_dict['age'])):\n",
    "    my_dict['age'][i] = float(my_dict['age'][i])"
   ]
  },
  {
   "cell_type": "code",
   "execution_count": 247,
   "metadata": {},
   "outputs": [
    {
     "data": {
      "text/plain": [
       "{'animal': ['Dog', 'Cat'],\n",
       " 'age': [4.0, 5.0],\n",
       " 'bark': [1, 0],\n",
       " 'badge_num': ['234', '896']}"
      ]
     },
     "execution_count": 247,
     "metadata": {},
     "output_type": "execute_result"
    }
   ],
   "source": [
    "# cast 'bark' to int\n",
    "for i in range(len(my_dict['bark'])):\n",
    "    my_dict['bark'][i] = int(my_dict['bark'][i])"
   ]
  },
  {
   "cell_type": "code",
   "execution_count": 248,
   "metadata": {},
   "outputs": [
    {
     "data": {
      "text/plain": [
       "{'animal': ['Dog', 'Cat'],\n",
       " 'age': [4.0, 5.0],\n",
       " 'bark': [1, 0],\n",
       " 'badge_num': [234, 896]}"
      ]
     },
     "execution_count": 248,
     "metadata": {},
     "output_type": "execute_result"
    }
   ],
   "source": [
    "# cast 'badge_num' to int\n",
    "for i in range(len(my_dict['bark'])):\n",
    "    my_dict['badge_num'][i] = int(my_dict['badge_num'][i])"
   ]
  },
  {
   "cell_type": "code",
   "execution_count": 249,
   "metadata": {},
   "outputs": [
    {
     "name": "stdout",
     "output_type": "stream",
     "text": [
      "{'animal': ['Dog', 'Cat'], 'age': [4.0, 5.0], 'bark': [1, 0], 'badge_num': [234, 896]}\n"
     ]
    }
   ],
   "source": [
    "# print my_dict\n",
    "print(my_dict)"
   ]
  },
  {
   "cell_type": "markdown",
   "metadata": {},
   "source": [
    "### Task 8"
   ]
  },
  {
   "cell_type": "markdown",
   "metadata": {},
   "source": [
    "You can write mathematical equations in Jupyter markdown. These are also called LaTex equations. Write below mentioned LaTex equation in markdown.\n",
    "<img src=https://encrypted-tbn0.gstatic.com/images?q=tbn:ANd9GcT342MebkyWTnyT3TCSGUN0XE3oml18wrd20OOR2elcElqYHpfs />"
   ]
  },
  {
   "cell_type": "markdown",
   "metadata": {},
   "source": [
    "Hint: [Here](https://stackoverflow.com/questions/13208286/how-to-write-latex-in-ipython-notebook)"
   ]
  },
  {
   "cell_type": "markdown",
   "metadata": {},
   "source": [
    "\n",
    "### write markdown code here and convert this cell to markdown before running\n",
    "$$c = \\sqrt{a^2 + b^2}$$"
   ]
  },
  {
   "cell_type": "markdown",
   "metadata": {},
   "source": [
    "### Task 9"
   ]
  },
  {
   "cell_type": "markdown",
   "metadata": {},
   "source": [
    "Write any python code in markdown such that when it runs, the markdown should look like a python code. This is called Github flavored markdown"
   ]
  },
  {
   "cell_type": "markdown",
   "metadata": {},
   "source": [
    "Hint: [Here](https://jupyter-notebook.readthedocs.io/en/stable/examples/Notebook/Working%20With%20Markdown%20Cells.html)"
   ]
  },
  {
   "cell_type": "markdown",
   "metadata": {},
   "source": [
    "### write markdown code here and convert this cell to markdown before running\n",
    "\n",
    "```\n",
    "def test_code():\n",
    "    string = \"This is dummy code\"\n",
    "    my_int = 10\n",
    "    mul_string = string * my_int\n",
    "```"
   ]
  },
  {
   "cell_type": "markdown",
   "metadata": {},
   "source": [
    "### Task 10"
   ]
  },
  {
   "cell_type": "markdown",
   "metadata": {},
   "source": [
    "Create a method that that takes a list of numbers as input and return power of 4 of each value in the list     \n",
    "E.g List = [2,3,5] and output should be like [16,81,625]"
   ]
  },
  {
   "cell_type": "code",
   "execution_count": 119,
   "metadata": {},
   "outputs": [],
   "source": [
    "#write code here\n",
    "def square_ftn(num):\n",
    "    return num**2"
   ]
  },
  {
   "cell_type": "code",
   "execution_count": 129,
   "metadata": {},
   "outputs": [
    {
     "data": {
      "text/plain": [
       "[1, 4, 9, 16, 25]"
      ]
     },
     "execution_count": 129,
     "metadata": {},
     "output_type": "execute_result"
    }
   ],
   "source": [
    "#write code here\n",
    "input_list = [1,2,3,4,5]\n",
    "squared_list = []\n",
    "for index in input_list:\n",
    "    squared_list.append(square_ftn(index))\n",
    "squared_list"
   ]
  },
  {
   "cell_type": "markdown",
   "metadata": {},
   "source": [
    "Do same this above task through mapping and lambda instead of function"
   ]
  },
  {
   "cell_type": "code",
   "execution_count": 132,
   "metadata": {},
   "outputs": [
    {
     "data": {
      "text/plain": [
       "[1, 4, 9, 16, 25]"
      ]
     },
     "execution_count": 132,
     "metadata": {},
     "output_type": "execute_result"
    }
   ],
   "source": [
    "#write code here\n",
    "#using mapping\n",
    "map(square_ftn,input_list)\n",
    "list(map(square_ftn,input_list))"
   ]
  },
  {
   "cell_type": "code",
   "execution_count": 133,
   "metadata": {},
   "outputs": [
    {
     "data": {
      "text/plain": [
       "[1, 4, 9, 16, 25]"
      ]
     },
     "execution_count": 133,
     "metadata": {},
     "output_type": "execute_result"
    }
   ],
   "source": [
    "#using lambda\n",
    "list(map(lambda num: num ** 2, input_list))"
   ]
  },
  {
   "cell_type": "markdown",
   "metadata": {},
   "source": [
    "<center>Good Luck !</center> "
   ]
  }
 ],
 "metadata": {
  "kernelspec": {
   "display_name": "Python 3",
   "language": "python",
   "name": "python3"
  },
  "language_info": {
   "codemirror_mode": {
    "name": "ipython",
    "version": 3
   },
   "file_extension": ".py",
   "mimetype": "text/x-python",
   "name": "python",
   "nbconvert_exporter": "python",
   "pygments_lexer": "ipython3",
   "version": "3.7.0"
  }
 },
 "nbformat": 4,
 "nbformat_minor": 2
}
